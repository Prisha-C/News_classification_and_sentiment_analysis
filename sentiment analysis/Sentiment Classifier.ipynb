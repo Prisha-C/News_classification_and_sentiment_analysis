{
 "cells": [
  {
   "cell_type": "code",
   "execution_count": 16,
   "id": "f97f0486",
   "metadata": {},
   "outputs": [],
   "source": [
    "from transformers import AutoTokenizer, AutoModelForSequenceClassification\n",
    "import numpy as np\n",
    "from scipy.special import softmax\n",
    "import torch\n",
    "import pandas as pd"
   ]
  },
  {
   "cell_type": "code",
   "execution_count": 10,
   "id": "59e4236d",
   "metadata": {},
   "outputs": [],
   "source": [
    "# Define label list based on model's classification\n",
    "labels = ['Negative', 'Neutral', 'Positive']"
   ]
  },
  {
   "cell_type": "code",
   "execution_count": 11,
   "id": "94c0203f",
   "metadata": {},
   "outputs": [],
   "source": [
    "from transformers import AutoTokenizer, AutoModelForSequenceClassification\n",
    "\n",
    "tokenizer = AutoTokenizer.from_pretrained(\"./twitter-roberta-base-sentiment/\")\n",
    "model = AutoModelForSequenceClassification.from_pretrained(\"./twitter-roberta-base-sentiment/\")\n"
   ]
  },
  {
   "cell_type": "code",
   "execution_count": 12,
   "id": "cc6cf651",
   "metadata": {},
   "outputs": [],
   "source": [
    "model = AutoModelForSequenceClassification.from_pretrained(\"./cardiffnlp/twitter-roberta-base-sentiment/\")"
   ]
  },
  {
   "cell_type": "code",
   "execution_count": 13,
   "id": "594e96a2",
   "metadata": {},
   "outputs": [],
   "source": [
    "def sentiment(row):\n",
    "    text = row[:1500]\n",
    "    encoded_input = tokenizer(text, return_tensors='pt')\n",
    "    with torch.no_grad():  # Disable gradient calculation during inference\n",
    "        output = model(**encoded_input)\n",
    "    scores = output[0][0].cpu().numpy()  # Move scores to CPU for further processing\n",
    "    scores = softmax(scores)\n",
    "\n",
    "\n",
    "    ranking = np.argsort(scores)\n",
    "    ranking = ranking[::-1]\n",
    "    max_score = 0\n",
    "    for i in range(scores.shape[0]):\n",
    "        l = labels[ranking[i]]\n",
    "        s = scores[ranking[i]]\n",
    "        if s > max_score:\n",
    "            final = l\n",
    "            max_score = s\n",
    "    return final"
   ]
  },
  {
   "cell_type": "markdown",
   "id": "5fc55efe",
   "metadata": {},
   "source": [
    "### News18"
   ]
  },
  {
   "cell_type": "code",
   "execution_count": 19,
   "id": "a20a6c7c",
   "metadata": {},
   "outputs": [],
   "source": [
    "df = pd.read_excel(r\"C:\\Users\\prish\\Downloads\\SIH-2023-main\\SIH-2023-main\\server\\IndiaToday.xlsx\")"
   ]
  },
  {
   "cell_type": "code",
   "execution_count": 20,
   "id": "97b26207",
   "metadata": {},
   "outputs": [],
   "source": [
    "df = df.iloc[:100, :]"
   ]
  },
  {
   "cell_type": "code",
   "execution_count": 21,
   "id": "a7001e21-8275-49b8-bb89-3c9526f2acd0",
   "metadata": {},
   "outputs": [],
   "source": [
    "# !pip install openpyxl"
   ]
  },
  {
   "cell_type": "code",
   "execution_count": 22,
   "id": "1eb72334",
   "metadata": {},
   "outputs": [],
   "source": [
    "df[\"Sentiment\"] = df.Body.apply(lambda x: sentiment(str(x)))"
   ]
  },
  {
   "cell_type": "code",
   "execution_count": 23,
   "id": "9c32d6cc",
   "metadata": {},
   "outputs": [
    {
     "data": {
      "text/html": [
       "<div>\n",
       "<style scoped>\n",
       "    .dataframe tbody tr th:only-of-type {\n",
       "        vertical-align: middle;\n",
       "    }\n",
       "\n",
       "    .dataframe tbody tr th {\n",
       "        vertical-align: top;\n",
       "    }\n",
       "\n",
       "    .dataframe thead th {\n",
       "        text-align: right;\n",
       "    }\n",
       "</style>\n",
       "<table border=\"1\" class=\"dataframe\">\n",
       "  <thead>\n",
       "    <tr style=\"text-align: right;\">\n",
       "      <th></th>\n",
       "      <th>Heading</th>\n",
       "      <th>Body</th>\n",
       "      <th>Category</th>\n",
       "      <th>URL</th>\n",
       "      <th>Sentiment</th>\n",
       "    </tr>\n",
       "  </thead>\n",
       "  <tbody>\n",
       "    <tr>\n",
       "      <th>0</th>\n",
       "      <td>Women's Reservation Bill cleared in key Cabine...</td>\n",
       "      <td>A proposed legislation to ensure 33 per cent r...</td>\n",
       "      <td>india</td>\n",
       "      <td>https://www.indiatoday.in/india/story/womens-r...</td>\n",
       "      <td>Neutral</td>\n",
       "    </tr>\n",
       "    <tr>\n",
       "      <th>1</th>\n",
       "      <td>'Have to eliminate Sanatana': Udhayanidhi on T...</td>\n",
       "      <td>Tamil Nadu Youth Affairs and Sports Minister U...</td>\n",
       "      <td>india</td>\n",
       "      <td>https://www.indiatoday.in/india/story/udhayani...</td>\n",
       "      <td>Negative</td>\n",
       "    </tr>\n",
       "    <tr>\n",
       "      <th>2</th>\n",
       "      <td>Congress leader shot dead in Punjab, Khalistan...</td>\n",
       "      <td>A local Congress leader was shot dead at his r...</td>\n",
       "      <td>india</td>\n",
       "      <td>https://www.indiatoday.in/india/story/congress...</td>\n",
       "      <td>Negative</td>\n",
       "    </tr>\n",
       "    <tr>\n",
       "      <th>3</th>\n",
       "      <td>IND vs AUS: KL Rahul to captain side in first ...</td>\n",
       "      <td>India has released two sets of squads for the ...</td>\n",
       "      <td>sports</td>\n",
       "      <td>https://www.indiatoday.in/sports/cricket/story...</td>\n",
       "      <td>Neutral</td>\n",
       "    </tr>\n",
       "    <tr>\n",
       "      <th>4</th>\n",
       "      <td>It would be suffocating, to hell with them: Ow...</td>\n",
       "      <td>All India Majlis-e-Ittehadul Muslimeen (AIMIM)...</td>\n",
       "      <td>india</td>\n",
       "      <td>https://www.indiatoday.in/india/story/asaduddi...</td>\n",
       "      <td>Neutral</td>\n",
       "    </tr>\n",
       "  </tbody>\n",
       "</table>\n",
       "</div>"
      ],
      "text/plain": [
       "                                             Heading  \\\n",
       "0  Women's Reservation Bill cleared in key Cabine...   \n",
       "1  'Have to eliminate Sanatana': Udhayanidhi on T...   \n",
       "2  Congress leader shot dead in Punjab, Khalistan...   \n",
       "3  IND vs AUS: KL Rahul to captain side in first ...   \n",
       "4  It would be suffocating, to hell with them: Ow...   \n",
       "\n",
       "                                                Body Category  \\\n",
       "0  A proposed legislation to ensure 33 per cent r...    india   \n",
       "1  Tamil Nadu Youth Affairs and Sports Minister U...    india   \n",
       "2  A local Congress leader was shot dead at his r...    india   \n",
       "3  India has released two sets of squads for the ...   sports   \n",
       "4  All India Majlis-e-Ittehadul Muslimeen (AIMIM)...    india   \n",
       "\n",
       "                                                 URL Sentiment  \n",
       "0  https://www.indiatoday.in/india/story/womens-r...   Neutral  \n",
       "1  https://www.indiatoday.in/india/story/udhayani...  Negative  \n",
       "2  https://www.indiatoday.in/india/story/congress...  Negative  \n",
       "3  https://www.indiatoday.in/sports/cricket/story...   Neutral  \n",
       "4  https://www.indiatoday.in/india/story/asaduddi...   Neutral  "
      ]
     },
     "execution_count": 23,
     "metadata": {},
     "output_type": "execute_result"
    }
   ],
   "source": [
    "df.head()"
   ]
  },
  {
   "cell_type": "code",
   "execution_count": 24,
   "id": "92c54316",
   "metadata": {},
   "outputs": [
    {
     "data": {
      "text/html": [
       "<div>\n",
       "<style scoped>\n",
       "    .dataframe tbody tr th:only-of-type {\n",
       "        vertical-align: middle;\n",
       "    }\n",
       "\n",
       "    .dataframe tbody tr th {\n",
       "        vertical-align: top;\n",
       "    }\n",
       "\n",
       "    .dataframe thead th {\n",
       "        text-align: right;\n",
       "    }\n",
       "</style>\n",
       "<table border=\"1\" class=\"dataframe\">\n",
       "  <thead>\n",
       "    <tr style=\"text-align: right;\">\n",
       "      <th></th>\n",
       "      <th>Heading</th>\n",
       "      <th>Body</th>\n",
       "      <th>Category</th>\n",
       "      <th>URL</th>\n",
       "      <th>Sentiment</th>\n",
       "    </tr>\n",
       "  </thead>\n",
       "  <tbody>\n",
       "    <tr>\n",
       "      <th>0</th>\n",
       "      <td>Women's Reservation Bill cleared in key Cabine...</td>\n",
       "      <td>A proposed legislation to ensure 33 per cent r...</td>\n",
       "      <td>india</td>\n",
       "      <td>https://www.indiatoday.in/india/story/womens-r...</td>\n",
       "      <td>Neutral</td>\n",
       "    </tr>\n",
       "    <tr>\n",
       "      <th>1</th>\n",
       "      <td>'Have to eliminate Sanatana': Udhayanidhi on T...</td>\n",
       "      <td>Tamil Nadu Youth Affairs and Sports Minister U...</td>\n",
       "      <td>india</td>\n",
       "      <td>https://www.indiatoday.in/india/story/udhayani...</td>\n",
       "      <td>Negative</td>\n",
       "    </tr>\n",
       "    <tr>\n",
       "      <th>2</th>\n",
       "      <td>Congress leader shot dead in Punjab, Khalistan...</td>\n",
       "      <td>A local Congress leader was shot dead at his r...</td>\n",
       "      <td>india</td>\n",
       "      <td>https://www.indiatoday.in/india/story/congress...</td>\n",
       "      <td>Negative</td>\n",
       "    </tr>\n",
       "    <tr>\n",
       "      <th>3</th>\n",
       "      <td>IND vs AUS: KL Rahul to captain side in first ...</td>\n",
       "      <td>India has released two sets of squads for the ...</td>\n",
       "      <td>sports</td>\n",
       "      <td>https://www.indiatoday.in/sports/cricket/story...</td>\n",
       "      <td>Neutral</td>\n",
       "    </tr>\n",
       "    <tr>\n",
       "      <th>4</th>\n",
       "      <td>It would be suffocating, to hell with them: Ow...</td>\n",
       "      <td>All India Majlis-e-Ittehadul Muslimeen (AIMIM)...</td>\n",
       "      <td>india</td>\n",
       "      <td>https://www.indiatoday.in/india/story/asaduddi...</td>\n",
       "      <td>Neutral</td>\n",
       "    </tr>\n",
       "  </tbody>\n",
       "</table>\n",
       "</div>"
      ],
      "text/plain": [
       "                                             Heading  \\\n",
       "0  Women's Reservation Bill cleared in key Cabine...   \n",
       "1  'Have to eliminate Sanatana': Udhayanidhi on T...   \n",
       "2  Congress leader shot dead in Punjab, Khalistan...   \n",
       "3  IND vs AUS: KL Rahul to captain side in first ...   \n",
       "4  It would be suffocating, to hell with them: Ow...   \n",
       "\n",
       "                                                Body Category  \\\n",
       "0  A proposed legislation to ensure 33 per cent r...    india   \n",
       "1  Tamil Nadu Youth Affairs and Sports Minister U...    india   \n",
       "2  A local Congress leader was shot dead at his r...    india   \n",
       "3  India has released two sets of squads for the ...   sports   \n",
       "4  All India Majlis-e-Ittehadul Muslimeen (AIMIM)...    india   \n",
       "\n",
       "                                                 URL Sentiment  \n",
       "0  https://www.indiatoday.in/india/story/womens-r...   Neutral  \n",
       "1  https://www.indiatoday.in/india/story/udhayani...  Negative  \n",
       "2  https://www.indiatoday.in/india/story/congress...  Negative  \n",
       "3  https://www.indiatoday.in/sports/cricket/story...   Neutral  \n",
       "4  https://www.indiatoday.in/india/story/asaduddi...   Neutral  "
      ]
     },
     "execution_count": 24,
     "metadata": {},
     "output_type": "execute_result"
    }
   ],
   "source": [
    "df.head()"
   ]
  },
  {
   "cell_type": "code",
   "execution_count": 25,
   "id": "46d15e04",
   "metadata": {},
   "outputs": [],
   "source": [
    "file_name = \"News18_with_sentiment.xlsx\"\n",
    "df.to_excel(file_name, index=False)"
   ]
  },
  {
   "cell_type": "markdown",
   "id": "2d18290a",
   "metadata": {},
   "source": [
    "### IndiaToday "
   ]
  },
  {
   "cell_type": "code",
   "execution_count": 26,
   "id": "05812f24",
   "metadata": {},
   "outputs": [],
   "source": [
    "df2 = pd.read_excel(r\"C:\\Users\\prish\\Downloads\\SIH-2023-main\\SIH-2023-main\\server\\IndianExpress_Video.xlsx\")"
   ]
  },
  {
   "cell_type": "code",
   "execution_count": 27,
   "id": "63f848f6",
   "metadata": {},
   "outputs": [],
   "source": [
    "df2[\"Sentiment\"] = df2.Body.apply(lambda x: sentiment(str(x)))"
   ]
  },
  {
   "cell_type": "code",
   "execution_count": 29,
   "id": "96e43f97-e86a-44c8-8c4c-2c5c8a0b919d",
   "metadata": {},
   "outputs": [
    {
     "data": {
      "text/html": [
       "<div>\n",
       "<style scoped>\n",
       "    .dataframe tbody tr th:only-of-type {\n",
       "        vertical-align: middle;\n",
       "    }\n",
       "\n",
       "    .dataframe tbody tr th {\n",
       "        vertical-align: top;\n",
       "    }\n",
       "\n",
       "    .dataframe thead th {\n",
       "        text-align: right;\n",
       "    }\n",
       "</style>\n",
       "<table border=\"1\" class=\"dataframe\">\n",
       "  <thead>\n",
       "    <tr style=\"text-align: right;\">\n",
       "      <th></th>\n",
       "      <th>Heading</th>\n",
       "      <th>VideoText</th>\n",
       "      <th>Body</th>\n",
       "      <th>URL</th>\n",
       "      <th>Sentiment</th>\n",
       "    </tr>\n",
       "  </thead>\n",
       "  <tbody>\n",
       "    <tr>\n",
       "      <th>0</th>\n",
       "      <td>Khalistan Supporter Sukha Duneke Gunned Down I...</td>\n",
       "      <td>Growing tensions between India and Canada over...</td>\n",
       "      <td>Sukhdool Singh Gill, also known as Sukha Dunek...</td>\n",
       "      <td>https://indianexpress.com/videos/news-video/kh...</td>\n",
       "      <td>Negative</td>\n",
       "    </tr>\n",
       "    <tr>\n",
       "      <th>1</th>\n",
       "      <td>Why AIMIM MPs Asaduddin Owaisi and Imtiaz Jale...</td>\n",
       "      <td>690 women women MP 7 elected till the 17 Lok S...</td>\n",
       "      <td>Women Reservation Bill: AIMIM Chief Asaduddin ...</td>\n",
       "      <td>https://indianexpress.com/videos/explained-vid...</td>\n",
       "      <td>Neutral</td>\n",
       "    </tr>\n",
       "  </tbody>\n",
       "</table>\n",
       "</div>"
      ],
      "text/plain": [
       "                                             Heading  \\\n",
       "0  Khalistan Supporter Sukha Duneke Gunned Down I...   \n",
       "1  Why AIMIM MPs Asaduddin Owaisi and Imtiaz Jale...   \n",
       "\n",
       "                                           VideoText  \\\n",
       "0  Growing tensions between India and Canada over...   \n",
       "1  690 women women MP 7 elected till the 17 Lok S...   \n",
       "\n",
       "                                                Body  \\\n",
       "0  Sukhdool Singh Gill, also known as Sukha Dunek...   \n",
       "1  Women Reservation Bill: AIMIM Chief Asaduddin ...   \n",
       "\n",
       "                                                 URL Sentiment  \n",
       "0  https://indianexpress.com/videos/news-video/kh...  Negative  \n",
       "1  https://indianexpress.com/videos/explained-vid...   Neutral  "
      ]
     },
     "execution_count": 29,
     "metadata": {},
     "output_type": "execute_result"
    }
   ],
   "source": [
    "df2.head()"
   ]
  },
  {
   "cell_type": "code",
   "execution_count": 28,
   "id": "3ff931da",
   "metadata": {},
   "outputs": [],
   "source": [
    "file_name = \"IndiaToday_with_sentiment.xlsx\"\n",
    "df2.to_excel(file_name, index=False)"
   ]
  },
  {
   "cell_type": "markdown",
   "id": "ca436688",
   "metadata": {},
   "source": [
    "### IndiaTV"
   ]
  },
  {
   "cell_type": "code",
   "execution_count": 30,
   "id": "a15e8438",
   "metadata": {},
   "outputs": [],
   "source": [
    "df3 = pd.read_excel(r\"C:\\Users\\prish\\Downloads\\SIH-2023-main\\SIH-2023-main\\server\\IndiaTv.xlsx\")"
   ]
  },
  {
   "cell_type": "code",
   "execution_count": 31,
   "id": "423a47bc",
   "metadata": {},
   "outputs": [],
   "source": [
    "df3[\"Sentiment\"] = df3.Body.apply(lambda x: sentiment(x))"
   ]
  },
  {
   "cell_type": "code",
   "execution_count": 32,
   "id": "65030b82-1fc7-4a79-8db0-4e38cf23ff4e",
   "metadata": {},
   "outputs": [
    {
     "data": {
      "text/html": [
       "<div>\n",
       "<style scoped>\n",
       "    .dataframe tbody tr th:only-of-type {\n",
       "        vertical-align: middle;\n",
       "    }\n",
       "\n",
       "    .dataframe tbody tr th {\n",
       "        vertical-align: top;\n",
       "    }\n",
       "\n",
       "    .dataframe thead th {\n",
       "        text-align: right;\n",
       "    }\n",
       "</style>\n",
       "<table border=\"1\" class=\"dataframe\">\n",
       "  <thead>\n",
       "    <tr style=\"text-align: right;\">\n",
       "      <th></th>\n",
       "      <th>Heading</th>\n",
       "      <th>Body</th>\n",
       "      <th>Category</th>\n",
       "      <th>URL</th>\n",
       "      <th>Sentiment</th>\n",
       "    </tr>\n",
       "  </thead>\n",
       "  <tbody>\n",
       "    <tr>\n",
       "      <th>0</th>\n",
       "      <td>\\n      Women's Reservation Bill cleared in Ca...</td>\n",
       "      <td>The Women's Reservation Bill was cleared in th...</td>\n",
       "      <td>news</td>\n",
       "      <td>https://www.indiatvnews.com/news/india/womens-...</td>\n",
       "      <td>Neutral</td>\n",
       "    </tr>\n",
       "    <tr>\n",
       "      <th>1</th>\n",
       "      <td>\\n      IND vs AUS: Rohit Sharma, Virat Kohli ...</td>\n",
       "      <td>The Board of Control for Cricket in India (BCC...</td>\n",
       "      <td>cricket</td>\n",
       "      <td>https://www.indiatvnews.com/sports/cricket/ind...</td>\n",
       "      <td>Neutral</td>\n",
       "    </tr>\n",
       "    <tr>\n",
       "      <th>2</th>\n",
       "      <td>\\n      Rajasthan: 16-year-old NEET aspirant d...</td>\n",
       "      <td>A 16-year-old NEET aspirant from Uttar Pradesh...</td>\n",
       "      <td>news</td>\n",
       "      <td>https://www.indiatvnews.com/education/news/raj...</td>\n",
       "      <td>Negative</td>\n",
       "    </tr>\n",
       "    <tr>\n",
       "      <th>3</th>\n",
       "      <td>\\n      'Congress welcomes': Jairam Ramesh rea...</td>\n",
       "      <td>The Congress on Monday reacted to the reports ...</td>\n",
       "      <td>news</td>\n",
       "      <td>https://www.indiatvnews.com/news/india/congres...</td>\n",
       "      <td>Neutral</td>\n",
       "    </tr>\n",
       "    <tr>\n",
       "      <th>4</th>\n",
       "      <td>\\n      After Santiniketan, 'Sacred Ensembles ...</td>\n",
       "      <td>After Santiniketan, Karnataka's Hoysala temple...</td>\n",
       "      <td>news</td>\n",
       "      <td>https://www.indiatvnews.com/news/india/unesco-...</td>\n",
       "      <td>Positive</td>\n",
       "    </tr>\n",
       "  </tbody>\n",
       "</table>\n",
       "</div>"
      ],
      "text/plain": [
       "                                             Heading  \\\n",
       "0  \\n      Women's Reservation Bill cleared in Ca...   \n",
       "1  \\n      IND vs AUS: Rohit Sharma, Virat Kohli ...   \n",
       "2  \\n      Rajasthan: 16-year-old NEET aspirant d...   \n",
       "3  \\n      'Congress welcomes': Jairam Ramesh rea...   \n",
       "4  \\n      After Santiniketan, 'Sacred Ensembles ...   \n",
       "\n",
       "                                                Body Category  \\\n",
       "0  The Women's Reservation Bill was cleared in th...     news   \n",
       "1  The Board of Control for Cricket in India (BCC...  cricket   \n",
       "2  A 16-year-old NEET aspirant from Uttar Pradesh...     news   \n",
       "3  The Congress on Monday reacted to the reports ...     news   \n",
       "4  After Santiniketan, Karnataka's Hoysala temple...     news   \n",
       "\n",
       "                                                 URL Sentiment  \n",
       "0  https://www.indiatvnews.com/news/india/womens-...   Neutral  \n",
       "1  https://www.indiatvnews.com/sports/cricket/ind...   Neutral  \n",
       "2  https://www.indiatvnews.com/education/news/raj...  Negative  \n",
       "3  https://www.indiatvnews.com/news/india/congres...   Neutral  \n",
       "4  https://www.indiatvnews.com/news/india/unesco-...  Positive  "
      ]
     },
     "execution_count": 32,
     "metadata": {},
     "output_type": "execute_result"
    }
   ],
   "source": [
    "df3.head()"
   ]
  },
  {
   "cell_type": "code",
   "execution_count": 33,
   "id": "d7b33f1e",
   "metadata": {},
   "outputs": [],
   "source": [
    "file_name = \"IndiaTV_with_sentiment.xlsx\"\n",
    "df3.to_excel(file_name, index=False)"
   ]
  },
  {
   "cell_type": "code",
   "execution_count": 34,
   "id": "cb22197c-12f2-49a8-8c91-ea0b3d6d8786",
   "metadata": {},
   "outputs": [],
   "source": [
    "df4 = pd.read_excel(r\"C:\\Users\\prish\\Downloads\\SIH-2023-main\\SIH-2023-main\\server\\IndianExpress_Video.xlsx\")"
   ]
  },
  {
   "cell_type": "code",
   "execution_count": 35,
   "id": "f062f0d7-8159-49ab-9522-0f990ed2fc64",
   "metadata": {},
   "outputs": [],
   "source": [
    "df4[\"Sentiment\"] = df4.Body.apply(lambda x : sentiment(x))"
   ]
  },
  {
   "cell_type": "code",
   "execution_count": 36,
   "id": "80b9156f-2ac5-4122-8f3b-2ce78cb982c0",
   "metadata": {},
   "outputs": [
    {
     "data": {
      "text/html": [
       "<div>\n",
       "<style scoped>\n",
       "    .dataframe tbody tr th:only-of-type {\n",
       "        vertical-align: middle;\n",
       "    }\n",
       "\n",
       "    .dataframe tbody tr th {\n",
       "        vertical-align: top;\n",
       "    }\n",
       "\n",
       "    .dataframe thead th {\n",
       "        text-align: right;\n",
       "    }\n",
       "</style>\n",
       "<table border=\"1\" class=\"dataframe\">\n",
       "  <thead>\n",
       "    <tr style=\"text-align: right;\">\n",
       "      <th></th>\n",
       "      <th>Heading</th>\n",
       "      <th>VideoText</th>\n",
       "      <th>Body</th>\n",
       "      <th>URL</th>\n",
       "      <th>Sentiment</th>\n",
       "    </tr>\n",
       "  </thead>\n",
       "  <tbody>\n",
       "    <tr>\n",
       "      <th>0</th>\n",
       "      <td>Khalistan Supporter Sukha Duneke Gunned Down I...</td>\n",
       "      <td>Growing tensions between India and Canada over...</td>\n",
       "      <td>Sukhdool Singh Gill, also known as Sukha Dunek...</td>\n",
       "      <td>https://indianexpress.com/videos/news-video/kh...</td>\n",
       "      <td>Negative</td>\n",
       "    </tr>\n",
       "    <tr>\n",
       "      <th>1</th>\n",
       "      <td>Why AIMIM MPs Asaduddin Owaisi and Imtiaz Jale...</td>\n",
       "      <td>690 women women MP 7 elected till the 17 Lok S...</td>\n",
       "      <td>Women Reservation Bill: AIMIM Chief Asaduddin ...</td>\n",
       "      <td>https://indianexpress.com/videos/explained-vid...</td>\n",
       "      <td>Neutral</td>\n",
       "    </tr>\n",
       "  </tbody>\n",
       "</table>\n",
       "</div>"
      ],
      "text/plain": [
       "                                             Heading  \\\n",
       "0  Khalistan Supporter Sukha Duneke Gunned Down I...   \n",
       "1  Why AIMIM MPs Asaduddin Owaisi and Imtiaz Jale...   \n",
       "\n",
       "                                           VideoText  \\\n",
       "0  Growing tensions between India and Canada over...   \n",
       "1  690 women women MP 7 elected till the 17 Lok S...   \n",
       "\n",
       "                                                Body  \\\n",
       "0  Sukhdool Singh Gill, also known as Sukha Dunek...   \n",
       "1  Women Reservation Bill: AIMIM Chief Asaduddin ...   \n",
       "\n",
       "                                                 URL Sentiment  \n",
       "0  https://indianexpress.com/videos/news-video/kh...  Negative  \n",
       "1  https://indianexpress.com/videos/explained-vid...   Neutral  "
      ]
     },
     "execution_count": 36,
     "metadata": {},
     "output_type": "execute_result"
    }
   ],
   "source": [
    "df4.head()"
   ]
  },
  {
   "cell_type": "code",
   "execution_count": 37,
   "id": "5edaee88-3b38-4900-b20d-766037d3f267",
   "metadata": {},
   "outputs": [],
   "source": [
    "file_name = \"IndianExpress_Video_with_sentiment_analysis.xlsx\"\n",
    "df3.to_excel(file_name, index=False)"
   ]
  },
  {
   "cell_type": "code",
   "execution_count": null,
   "id": "2de376f5-f72d-47ab-891d-5a5ceebf93f3",
   "metadata": {},
   "outputs": [],
   "source": []
  }
 ],
 "metadata": {
  "kernelspec": {
   "display_name": "Python 3 (ipykernel)",
   "language": "python",
   "name": "python3"
  },
  "language_info": {
   "codemirror_mode": {
    "name": "ipython",
    "version": 3
   },
   "file_extension": ".py",
   "mimetype": "text/x-python",
   "name": "python",
   "nbconvert_exporter": "python",
   "pygments_lexer": "ipython3",
   "version": "3.10.16"
  }
 },
 "nbformat": 4,
 "nbformat_minor": 5
}
